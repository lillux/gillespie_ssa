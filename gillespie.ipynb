{
 "cells": [
  {
   "cell_type": "code",
   "execution_count": null,
   "id": "481ae786",
   "metadata": {},
   "outputs": [],
   "source": [
    "import matplotlib.pyplot as plt\n",
    "import random"
   ]
  },
  {
   "cell_type": "code",
   "execution_count": null,
   "id": "6c8a9916",
   "metadata": {},
   "outputs": [],
   "source": []
  },
  {
   "cell_type": "code",
   "execution_count": 1,
   "id": "40dd1005",
   "metadata": {
    "scrolled": true
   },
   "outputs": [
    {
     "ename": "ModuleNotFoundError",
     "evalue": "No module named 'gillespie'",
     "output_type": "error",
     "traceback": [
      "\u001b[0;31m---------------------------------------------------------------------------\u001b[0m",
      "\u001b[0;31mModuleNotFoundError\u001b[0m                       Traceback (most recent call last)",
      "\u001b[0;32m/tmp/ipykernel_23502/274934583.py\u001b[0m in \u001b[0;36m<module>\u001b[0;34m\u001b[0m\n\u001b[0;32m----> 1\u001b[0;31m \u001b[0;32mimport\u001b[0m \u001b[0mgillespie\u001b[0m\u001b[0;34m\u001b[0m\u001b[0;34m\u001b[0m\u001b[0m\n\u001b[0m",
      "\u001b[0;31mModuleNotFoundError\u001b[0m: No module named 'gillespie'"
     ]
    }
   ],
   "source": [
    "import gillespie"
   ]
  },
  {
   "cell_type": "code",
   "execution_count": null,
   "id": "483a48b7",
   "metadata": {},
   "outputs": [],
   "source": []
  },
  {
   "cell_type": "code",
   "execution_count": null,
   "id": "4ae38871",
   "metadata": {},
   "outputs": [],
   "source": []
  },
  {
   "cell_type": "code",
   "execution_count": null,
   "id": "e75d8524",
   "metadata": {},
   "outputs": [],
   "source": []
  },
  {
   "cell_type": "code",
   "execution_count": null,
   "id": "bdfe7fdd",
   "metadata": {},
   "outputs": [],
   "source": [
    "alpha = 1  # reproduction rate of prey\n",
    "beta = 0.01  # prey consumption rate (and reproduction of predator)\n",
    "gamma = 2  # death rate of predators\n",
    "t = 15  # duration\n",
    "\n",
    "reag_quant = [50, 50]  # prey, predators\n",
    "\n",
    "propensities = [lambda prey, pred: alpha * prey,  # prey birth\n",
    "                lambda prey, pred: beta * prey * pred,  # prey death / predator birth\n",
    "                lambda prey, pred: gamma * pred]  # predator death\n",
    "\n",
    "state_change_vect = [[1, 0],  # prey birth\n",
    "                 [-1, 1],  # prey death / predator birth\n",
    "                 [0, -1]]  # predator death"
   ]
  },
  {
   "cell_type": "code",
   "execution_count": null,
   "id": "5afab4dd",
   "metadata": {},
   "outputs": [],
   "source": []
  },
  {
   "cell_type": "code",
   "execution_count": null,
   "id": "806b12ec",
   "metadata": {
    "scrolled": true
   },
   "outputs": [],
   "source": []
  },
  {
   "cell_type": "code",
   "execution_count": null,
   "id": "eeef34f3",
   "metadata": {},
   "outputs": [],
   "source": [
    "# data for schogle |  WORKING!!!!!!!!!!!!!!!!!!!!!!\n",
    "\n",
    "reag_quant = [100000, 200000, 250]\n",
    "state_change_vect = [[-1, 0, +1],\n",
    "                     [+1, 0, -1],\n",
    "                     [0, -1, +1],\n",
    "                     [0, +1, -1]]\n",
    "combinatorics = [lambda a,b,x : (3*10e-8*a*x*(x-1)/2),\n",
    "                lambda a,b,x : (0.0001*x*(x-1)*(x-2)/6),\n",
    "                lambda a,b,x : b*0.001,\n",
    "                lambda a,b,x : x*3.5]"
   ]
  },
  {
   "cell_type": "code",
   "execution_count": null,
   "id": "a11130f7",
   "metadata": {},
   "outputs": [],
   "source": []
  },
  {
   "cell_type": "code",
   "execution_count": null,
   "id": "e0c20e8c",
   "metadata": {},
   "outputs": [],
   "source": []
  },
  {
   "cell_type": "code",
   "execution_count": null,
   "id": "61141a42",
   "metadata": {
    "scrolled": false
   },
   "outputs": [],
   "source": [
    "result_dict ={}\n",
    "for epoch in range(100):\n",
    "    \n",
    "    a = gillespie_ssa(reagent_quantity=reag_quant, state_change_vectors=state_change_vect, combinatorics=combinatorics, iteration=100000, set_fixed_reagents=[0,1])\n",
    "    result_dict[epoch] = [a.timestep_list, a.molecular_species_history]\n",
    "    plt.plot([x for x in range(a.actual_iteration+1)],[y[2] for y in a.molecular_species_history])\n",
    "    #plt.plot([x for x in a.timestep_list],[y[1] for y in a.molecular_species_history])"
   ]
  },
  {
   "cell_type": "code",
   "execution_count": null,
   "id": "dd96d764",
   "metadata": {},
   "outputs": [],
   "source": []
  },
  {
   "cell_type": "code",
   "execution_count": null,
   "id": "cb2e0bd9",
   "metadata": {},
   "outputs": [],
   "source": []
  },
  {
   "cell_type": "code",
   "execution_count": null,
   "id": "dc9e0c24",
   "metadata": {},
   "outputs": [],
   "source": []
  },
  {
   "cell_type": "code",
   "execution_count": null,
   "id": "12df814f",
   "metadata": {},
   "outputs": [],
   "source": []
  }
 ],
 "metadata": {
  "kernelspec": {
   "display_name": "Python 3 (ipykernel)",
   "language": "python",
   "name": "python3"
  },
  "language_info": {
   "codemirror_mode": {
    "name": "ipython",
    "version": 3
   },
   "file_extension": ".py",
   "mimetype": "text/x-python",
   "name": "python",
   "nbconvert_exporter": "python",
   "pygments_lexer": "ipython3",
   "version": "3.8.13"
  }
 },
 "nbformat": 4,
 "nbformat_minor": 5
}
